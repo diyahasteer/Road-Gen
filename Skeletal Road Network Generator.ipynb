{
 "cells": [
  {
   "cell_type": "code",
   "execution_count": 1,
   "metadata": {},
   "outputs": [],
   "source": [
    "import numpy as np\n",
    "import matplotlib.pyplot as plt\n",
    "import random\n",
    "import math\n",
    "from sympy.solvers import solve\n",
    "from sympy import Symbol\n",
    "import time"
   ]
  },
  {
   "cell_type": "code",
   "execution_count": 2,
   "metadata": {},
   "outputs": [],
   "source": [
    "def createCircleEquation(h, k, r):\n",
    "    #a, b = np.meshgrid(setupGraph(-30,30)[0] ,setupGraph(-30,30)[0])\n",
    "    x = np.linspace(-30,30,100)\n",
    "    y = np.linspace(-30,30,100)\n",
    "    a, b = np.meshgrid(x, y)\n",
    "    C = (a-h) ** 2 + (b-k) ** 2 - r**2\n",
    "    return ([a, b, C])"
   ]
  },
  {
   "cell_type": "code",
   "execution_count": 3,
   "metadata": {},
   "outputs": [],
   "source": [
    "def generateRandomPoints(h,k,r):\n",
    "    points = []\n",
    "    randomX = round(random.uniform(-r, r),5) #only works when h and k are 0\n",
    "    randomYs = [math.sqrt(abs(r**2 - (randomX - h)**2)) + k, -1*(math.sqrt(abs(r**2 - (randomX - h)**2)) + k)]\n",
    "    points.append([randomX, random.choice(randomYs)])\n",
    "    \n",
    "    for i in range(3, 6):\n",
    "        distance = 0\n",
    "        minDistance = 2\n",
    "        while distance < minDistance:\n",
    "            tempRandomX = round(random.uniform(-r, r),5)\n",
    "            tempRandomYs = [math.sqrt(abs(r**2 - (tempRandomX - h)**2)) + k, -1*(math.sqrt(abs(r**2 - (tempRandomX - h)**2)) + k)]\n",
    "            tempRandomY = random.choice(tempRandomYs)\n",
    "            \n",
    "            bool = True\n",
    "            for point in points:\n",
    "                distance = math.sqrt((point[0] - tempRandomX)**2 + (point[1] - tempRandomY)**2)\n",
    "                if distance < minDistance:\n",
    "                    bool = False\n",
    "                    break \n",
    "            \n",
    "            if bool == True:\n",
    "                points.append([tempRandomX, tempRandomY])\n",
    "\n",
    "    return(points)"
   ]
  },
  {
   "cell_type": "code",
   "execution_count": 4,
   "metadata": {},
   "outputs": [],
   "source": [
    "def chooseRandomRadius():\n",
    "    minDistance = 2\n",
    "    h = 0 \n",
    "    k = 0 \n",
    "    numCircles = random.randint(4,4)\n",
    "    circles = []\n",
    "    \n",
    "    r = 2\n",
    "    for i in range (1, numCircles):\n",
    "        r = random.randint(r + minDistance, r + minDistance + 6)\n",
    "        circles.append([h, k, r])\n",
    "    \n",
    "    return(circles)"
   ]
  },
  {
   "cell_type": "code",
   "execution_count": 5,
   "metadata": {},
   "outputs": [],
   "source": [
    "def findClosestPoint(firstPoint, listOfPoints):\n",
    "    minDist = 100000000\n",
    "    minDistPoint = 0\n",
    "    for point in listOfPoints:\n",
    "        distance = ((point[0]-firstPoint[0])**2 + (point[1]-firstPoint[1])**2)**(1/2)\n",
    "        if distance < minDist:\n",
    "            minDist = distance\n",
    "            minDistPoint = point\n",
    "    return(minDistPoint)"
   ]
  },
  {
   "cell_type": "code",
   "execution_count": 6,
   "metadata": {},
   "outputs": [],
   "source": [
    "def convertAngle(angle, yCoord):\n",
    "    if yCoord < 0:\n",
    "        adjustedA = 360 - angle\n",
    "    else:\n",
    "        adjustedA = angle\n",
    "    return adjustedA"
   ]
  },
  {
   "cell_type": "code",
   "execution_count": 7,
   "metadata": {},
   "outputs": [],
   "source": [
    "#baseline version of the algorithm\n",
    "def makeConnectionsBASIC(points):\n",
    "    randomPoints = []\n",
    "    for point in points:\n",
    "        randomPoints.append(point)\n",
    "                \n",
    "    lines = []\n",
    "    firstPoint = random.choice(randomPoints)\n",
    "    randomPoints.remove(firstPoint)\n",
    "    while len(randomPoints) != 0:\n",
    "        secondPoint = findClosestPoint(firstPoint, randomPoints)\n",
    "        lines.append((firstPoint, secondPoint))\n",
    "        randomPoints.remove(secondPoint)\n",
    "        firstPoint = secondPoint\n",
    "        \n",
    "    return(lines)"
   ]
  },
  {
   "cell_type": "code",
   "execution_count": 8,
   "metadata": {},
   "outputs": [],
   "source": [
    "#current connection algorithm\n",
    "def makeConnections(points):\n",
    "    randomPoints = points.copy()\n",
    "    \n",
    "    lines = []\n",
    "    firstCircle = random.choice(randomPoints)\n",
    "    firstPoint = random.choice(firstCircle)\n",
    "    randomPoints[randomPoints.index(firstCircle)].remove(firstPoint)\n",
    "    for item in randomPoints:\n",
    "        item.remove(item[0])\n",
    "    while len(randomPoints) != 0:\n",
    "        masterList = []\n",
    "        for item in randomPoints:\n",
    "            if item != firstCircle:\n",
    "                for point in item:\n",
    "                    masterList.append(point)\n",
    "        \n",
    "        if len(masterList) != 0:\n",
    "            secondPoint = findClosestPoint(firstPoint, masterList)\n",
    "        else:\n",
    "            break\n",
    "            \n",
    "        lines.append((firstPoint, secondPoint))\n",
    "        for item in randomPoints:\n",
    "            if secondPoint in item:\n",
    "                randomPoints[randomPoints.index(item)].remove(secondPoint)\n",
    "                firstCircle = item\n",
    "            if len(item) == 0:\n",
    "                randomPoints.remove(item)\n",
    "        firstPoint = secondPoint\n",
    "        \n",
    "        print(len(lines))\n",
    "    return(lines)"
   ]
  },
  {
   "cell_type": "code",
   "execution_count": 9,
   "metadata": {},
   "outputs": [],
   "source": [
    "#advanced connection algorithm still being developed\n",
    "#format of points: [[r,[a,b], [c,d],[e,f]], [r,[g,h],[h,i]]]\n",
    "def makeConnectionsINPROG(points):\n",
    "    randomPoints = points.copy()\n",
    "    \n",
    "    lines = []\n",
    "    firstCircle = randomPoints[-1]\n",
    "    firstPoint = random.choice(firstCircle[1:])\n",
    "    #randomPoints[randomPoints.index(firstCircle)].remove(firstPoint)\n",
    "    while len(randomPoints) != 0:\n",
    "        print(firstPoint)\n",
    "        r = randomPoints[randomPoints.index(firstCircle) - 1][0]\n",
    "        \n",
    "        #calculate range of viability for first point within second circle in degrees\n",
    "        m = Symbol('m', real=True)\n",
    "        sol = solve((r**2) + ((r**2)*(m**2)) - ((firstPoint[1] - (firstPoint[0]*m))**2), m)\n",
    "        \n",
    "        \n",
    "        x = Symbol('x', real=True)\n",
    "        coord1 = solve(x**2 + (sol[0]*x + (firstPoint[1] - sol[0]*firstPoint[0]))**2 - r**2, x)\n",
    "        \n",
    "        xInt1 = coord1[0]\n",
    "        yInt1 = (sol[0]*xInt1) + (firstPoint[1] - sol[0]*firstPoint[0])\n",
    "        \n",
    "        maxDist = ((xInt1-firstPoint[0])**2 + (yInt1-firstPoint[1])**2)**(1/2)\n",
    "        secondPoint = findClosestPoint(firstPoint, randomPoints[randomPoints.index(firstCircle) - 1][1:])\n",
    "        dist = ((secondPoint[0]-firstPoint[0])**2 + (secondPoint[1]-firstPoint[1])**2)**(1/2)\n",
    "        \n",
    "        if dist <= maxDist:\n",
    "            lines.append((firstPoint, secondPoint))\n",
    "            \n",
    "        firstInd = randomPoints.index(firstCircle)\n",
    "        randomPoints[firstInd].remove(firstPoint)\n",
    "        if len(randomPoints[firstInd]) == 1:\n",
    "            if firstInd == 1:\n",
    "                del randomPoints[1]\n",
    "                del randomPoints[0]\n",
    "            else:\n",
    "                del randomPoints[firstInd]\n",
    "                firstCircle = randomPoints[firstInd-1]\n",
    "                firstPoint = random.choice(firstCircle[1:])\n",
    "        else:\n",
    "            firstPoint = random.choice(randomPoints[firstInd][1:])\n",
    "        \n",
    "    return(lines)"
   ]
  },
  {
   "cell_type": "code",
   "execution_count": 10,
   "metadata": {},
   "outputs": [],
   "source": [
    "def plotGraph(circles):\n",
    "    \n",
    "    figure, axes = plt.subplots()\n",
    "    \n",
    "    counter = 0\n",
    "    i = 0\n",
    "    points = []\n",
    "    for item in circles:\n",
    "        points.append([item[2]])\n",
    "        axes.contour( createCircleEquation(circles[counter][0], circles[counter][1], circles[counter][2])[0] , createCircleEquation(circles[counter][0], circles[counter][1], circles[counter][2])[1] , createCircleEquation(circles[counter][0], circles[counter][1], circles[counter][2])[2], [0] )        \n",
    "        for point in generateRandomPoints(circles[counter][0], circles[counter][1], circles[counter][2]):\n",
    "            plt.plot(point[0], point[1], 'ro')\n",
    "            points[i].append([point[0], point[1]])\n",
    "        counter += 1\n",
    "        i += 1\n",
    "    \n",
    "    axes.set_aspect( 1 )\n",
    "    \n",
    "    for pair in makeConnections(points):\n",
    "        plt.plot([pair[0][0],pair[1][0]],[pair[0][1],pair[1][1]],'k-')\n",
    "        \n",
    "        \n",
    "    plt.title( 'Circle' )\n",
    "    plt.show()"
   ]
  },
  {
   "cell_type": "code",
   "execution_count": 12,
   "metadata": {},
   "outputs": [
    {
     "name": "stdout",
     "output_type": "stream",
     "text": [
      "1\n",
      "2\n",
      "3\n",
      "4\n",
      "5\n",
      "6\n",
      "7\n",
      "8\n",
      "9\n",
      "10\n"
     ]
    },
    {
     "data": {
      "image/png": "[encoded data removed]",
      "text/plain": [
       "<Figure size 432x288 with 1 Axes>"
      ]
     },
     "metadata": {
      "needs_background": "light"
     },
     "output_type": "display_data"
    },
    {
     "name": "stdout",
     "output_type": "stream",
     "text": [
      "The time of execution of above program is : 112.4570369720459 ms\n"
     ]
    }
   ],
   "source": [
    "#calculating runtime of program when it is called\n",
    "#produced road networks\n",
    "start = time.time()\n",
    "plotGraph(chooseRandomRadius())\n",
    "end = time.time()\n",
    "print(\"The time of execution of above program is :\",\n",
    "      (end-start) * 10**3, \"ms\")"
   ]
  }
 ],
 "metadata": {
  "kernelspec": {
   "display_name": "Python 3 (ipykernel)",
   "language": "python",
   "name": "python3"
  },
  "language_info": {
   "codemirror_mode": {
    "name": "ipython",
    "version": 3
   },
   "file_extension": ".py",
   "mimetype": "text/x-python",
   "name": "python",
   "nbconvert_exporter": "python",
   "pygments_lexer": "ipython3",
   "version": "3.9.7"
  }
 },
 "nbformat": 4,
 "nbformat_minor": 2
}
